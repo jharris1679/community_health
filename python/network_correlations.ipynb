{
 "cells": [
  {
   "cell_type": "code",
   "execution_count": 19,
   "metadata": {
    "collapsed": false
   },
   "outputs": [],
   "source": [
    "import pandas as pd\n",
    "from scipy import stats"
   ]
  },
  {
   "cell_type": "code",
   "execution_count": 121,
   "metadata": {
    "collapsed": false
   },
   "outputs": [],
   "source": [
    "transaction_net = pd.read_csv(\"~/community_health/data/transaction_network_properties.csv\", index_col=None)\n",
    "message_net = pd.read_csv(\"~/community_health/data/message_network_properties.csv\", index_col=None)\n",
    "metrics = ['nodes', 'actual_edges', 'total_transactions', 'network_density_X_100', 'avg_degree', 'avg_weight']"
   ]
  },
  {
   "cell_type": "code",
   "execution_count": 118,
   "metadata": {
    "collapsed": false
   },
   "outputs": [
    {
     "data": {
      "text/html": [
       "<div>\n",
       "<table border=\"1\" class=\"dataframe\">\n",
       "  <thead>\n",
       "    <tr style=\"text-align: right;\">\n",
       "      <th></th>\n",
       "      <th>nodes</th>\n",
       "      <th>actual_edges</th>\n",
       "      <th>total_transactions</th>\n",
       "      <th>network_density_X_100</th>\n",
       "      <th>avg_degree</th>\n",
       "      <th>avg_weight</th>\n",
       "    </tr>\n",
       "  </thead>\n",
       "  <tbody>\n",
       "    <tr>\n",
       "      <th>nodes</th>\n",
       "      <td>1</td>\n",
       "      <td>0.826137</td>\n",
       "      <td>0.822934</td>\n",
       "      <td>-0.687393</td>\n",
       "      <td>0.285082</td>\n",
       "      <td>0.224767</td>\n",
       "    </tr>\n",
       "    <tr>\n",
       "      <th>actual_edges</th>\n",
       "      <td>0.826137</td>\n",
       "      <td>1</td>\n",
       "      <td>0.993481</td>\n",
       "      <td>-0.215022</td>\n",
       "      <td>0.751782</td>\n",
       "      <td>0.275403</td>\n",
       "    </tr>\n",
       "    <tr>\n",
       "      <th>total_transactions</th>\n",
       "      <td>0.822934</td>\n",
       "      <td>0.993481</td>\n",
       "      <td>1</td>\n",
       "      <td>-0.217181</td>\n",
       "      <td>0.745318</td>\n",
       "      <td>0.362403</td>\n",
       "    </tr>\n",
       "    <tr>\n",
       "      <th>network_density_X_100</th>\n",
       "      <td>-0.687393</td>\n",
       "      <td>-0.215022</td>\n",
       "      <td>-0.217181</td>\n",
       "      <td>1</td>\n",
       "      <td>0.437182</td>\n",
       "      <td>-0.0620882</td>\n",
       "    </tr>\n",
       "    <tr>\n",
       "      <th>avg_degree</th>\n",
       "      <td>0.285082</td>\n",
       "      <td>0.751782</td>\n",
       "      <td>0.745318</td>\n",
       "      <td>0.437182</td>\n",
       "      <td>1</td>\n",
       "      <td>0.174566</td>\n",
       "    </tr>\n",
       "    <tr>\n",
       "      <th>avg_weight</th>\n",
       "      <td>0.224767</td>\n",
       "      <td>0.275403</td>\n",
       "      <td>0.362403</td>\n",
       "      <td>-0.0620882</td>\n",
       "      <td>0.174566</td>\n",
       "      <td>1</td>\n",
       "    </tr>\n",
       "  </tbody>\n",
       "</table>\n",
       "</div>"
      ],
      "text/plain": [
       "                          nodes actual_edges total_transactions  \\\n",
       "nodes                         1     0.826137           0.822934   \n",
       "actual_edges           0.826137            1           0.993481   \n",
       "total_transactions     0.822934     0.993481                  1   \n",
       "network_density_X_100 -0.687393    -0.215022          -0.217181   \n",
       "avg_degree             0.285082     0.751782           0.745318   \n",
       "avg_weight             0.224767     0.275403           0.362403   \n",
       "\n",
       "                      network_density_X_100 avg_degree avg_weight  \n",
       "nodes                             -0.687393   0.285082   0.224767  \n",
       "actual_edges                      -0.215022   0.751782   0.275403  \n",
       "total_transactions                -0.217181   0.745318   0.362403  \n",
       "network_density_X_100                     1   0.437182 -0.0620882  \n",
       "avg_degree                         0.437182          1   0.174566  \n",
       "avg_weight                       -0.0620882   0.174566          1  "
      ]
     },
     "execution_count": 118,
     "metadata": {},
     "output_type": "execute_result"
    }
   ],
   "source": [
    "transaction_corr_matrix = pd.DataFrame(index=metrics, columns=metrics)\n",
    "\n",
    "i = 0\n",
    "j = 0\n",
    "\n",
    "for i in range(len(metrics)):\n",
    "    for j in range(len(metrics)): \n",
    "        rho, pval = scipy.stats.spearmanr(transaction_net[[metrics[i],metrics[j]]])\n",
    "        transaction_corr_matrix.set_value(metrics[i], metrics[j], rho)\n",
    "        \n",
    "transaction_corr_matrix"
   ]
  },
  {
   "cell_type": "markdown",
   "metadata": {},
   "source": [
    "### Correlations among transaction network properties\n",
    "\n",
    " - average degree of the network (how many different members a member has transacted with) is strongly correlated with the total number of transactions\n",
    " - average weight (repeated transactions between memebers) is not correlated with total transactions\n",
    " \n",
    "These two findings suggest the possibility that the members of healthy communities are more likely to have transacted with a broader set of other members."
   ]
  },
  {
   "cell_type": "code",
   "execution_count": 122,
   "metadata": {
    "collapsed": false
   },
   "outputs": [
    {
     "data": {
      "text/html": [
       "<div>\n",
       "<table border=\"1\" class=\"dataframe\">\n",
       "  <thead>\n",
       "    <tr style=\"text-align: right;\">\n",
       "      <th></th>\n",
       "      <th>nodes</th>\n",
       "      <th>actual_edges</th>\n",
       "      <th>total_transactions</th>\n",
       "      <th>network_density_X_100</th>\n",
       "      <th>avg_degree</th>\n",
       "      <th>avg_weight</th>\n",
       "    </tr>\n",
       "  </thead>\n",
       "  <tbody>\n",
       "    <tr>\n",
       "      <th>nodes</th>\n",
       "      <td>1</td>\n",
       "      <td>0.122686</td>\n",
       "      <td>0.401783</td>\n",
       "      <td>-0.979852</td>\n",
       "      <td>-0.952044</td>\n",
       "      <td>0.805421</td>\n",
       "    </tr>\n",
       "    <tr>\n",
       "      <th>actual_edges</th>\n",
       "      <td>0.122686</td>\n",
       "      <td>1</td>\n",
       "      <td>0.803515</td>\n",
       "      <td>-0.00141145</td>\n",
       "      <td>0.0749772</td>\n",
       "      <td>0.0272356</td>\n",
       "    </tr>\n",
       "    <tr>\n",
       "      <th>total_transactions</th>\n",
       "      <td>0.401783</td>\n",
       "      <td>0.803515</td>\n",
       "      <td>1</td>\n",
       "      <td>-0.285749</td>\n",
       "      <td>-0.200566</td>\n",
       "      <td>0.357049</td>\n",
       "    </tr>\n",
       "    <tr>\n",
       "      <th>network_density_X_100</th>\n",
       "      <td>-0.979852</td>\n",
       "      <td>-0.00141145</td>\n",
       "      <td>-0.285749</td>\n",
       "      <td>1</td>\n",
       "      <td>0.992168</td>\n",
       "      <td>-0.832252</td>\n",
       "    </tr>\n",
       "    <tr>\n",
       "      <th>avg_degree</th>\n",
       "      <td>-0.952044</td>\n",
       "      <td>0.0749772</td>\n",
       "      <td>-0.200566</td>\n",
       "      <td>0.992168</td>\n",
       "      <td>1</td>\n",
       "      <td>-0.82763</td>\n",
       "    </tr>\n",
       "    <tr>\n",
       "      <th>avg_weight</th>\n",
       "      <td>0.805421</td>\n",
       "      <td>0.0272356</td>\n",
       "      <td>0.357049</td>\n",
       "      <td>-0.832252</td>\n",
       "      <td>-0.82763</td>\n",
       "      <td>1</td>\n",
       "    </tr>\n",
       "  </tbody>\n",
       "</table>\n",
       "</div>"
      ],
      "text/plain": [
       "                          nodes actual_edges total_transactions  \\\n",
       "nodes                         1     0.122686           0.401783   \n",
       "actual_edges           0.122686            1           0.803515   \n",
       "total_transactions     0.401783     0.803515                  1   \n",
       "network_density_X_100 -0.979852  -0.00141145          -0.285749   \n",
       "avg_degree            -0.952044    0.0749772          -0.200566   \n",
       "avg_weight             0.805421    0.0272356           0.357049   \n",
       "\n",
       "                      network_density_X_100 avg_degree avg_weight  \n",
       "nodes                             -0.979852  -0.952044   0.805421  \n",
       "actual_edges                    -0.00141145  0.0749772  0.0272356  \n",
       "total_transactions                -0.285749  -0.200566   0.357049  \n",
       "network_density_X_100                     1   0.992168  -0.832252  \n",
       "avg_degree                         0.992168          1   -0.82763  \n",
       "avg_weight                        -0.832252   -0.82763          1  "
      ]
     },
     "execution_count": 122,
     "metadata": {},
     "output_type": "execute_result"
    }
   ],
   "source": [
    "message_corr_matrix = pd.DataFrame(index=metrics, columns=metrics)\n",
    "\n",
    "i = 0\n",
    "j = 0\n",
    "\n",
    "for i in range(len(metrics)):\n",
    "    for j in range(len(metrics)): \n",
    "        rho, pval = scipy.stats.spearmanr(message_net[[metrics[i],metrics[j]]])\n",
    "        message_corr_matrix.set_value(metrics[i], metrics[j], rho)\n",
    "        \n",
    "message_corr_matrix"
   ]
  },
  {
   "cell_type": "code",
   "execution_count": null,
   "metadata": {
    "collapsed": true
   },
   "outputs": [],
   "source": []
  }
 ],
 "metadata": {
  "kernelspec": {
   "display_name": "Python 3",
   "language": "python",
   "name": "python3"
  },
  "language_info": {
   "codemirror_mode": {
    "name": "ipython",
    "version": 3
   },
   "file_extension": ".py",
   "mimetype": "text/x-python",
   "name": "python",
   "nbconvert_exporter": "python",
   "pygments_lexer": "ipython3",
   "version": "3.6.0"
  }
 },
 "nbformat": 4,
 "nbformat_minor": 2
}
