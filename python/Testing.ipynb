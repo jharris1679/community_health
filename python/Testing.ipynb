{
 "cells": [
  {
   "cell_type": "code",
   "execution_count": 98,
   "metadata": {
    "collapsed": false
   },
   "outputs": [
    {
     "name": "stdout",
     "output_type": "stream",
     "text": [
      "Requesting query... ok.\n",
      "Query running...\n",
      "Query done.\n",
      "Cache hit.\n",
      "\n",
      "Retrieving results...\n",
      "Got 2737 rows.\n",
      "\n",
      "Total time taken 3.49 s.\n",
      "Finished at 2017-07-10 18:03:53.\n"
     ]
    }
   ],
   "source": [
    "# initializing\n",
    "\n",
    "import pandas as pd\n",
    "import pandas_gbq as pgbq\n",
    "import multiprocessing\n",
    "from scipy import stats\n",
    "\n",
    "network_type = 'transaction'\n",
    "sql_modules = ['edges','edge_weight','indegree','outdegree']\n",
    "google_project_id = 'solid-ridge-104914'\n",
    "\n",
    "\n",
    "#if community facts are already saved, use those otherwise re-calculate and save\n",
    "\n",
    "try:\n",
    "    container = pgbq.read_gbq('select * from community_networks.community_facts', google_project_id, dialect='standard')\n",
    "except:\n",
    "    print(\"Community facts table does not exist, generating now.\")\n",
    "    with open('../sql/cumulative_networks/community_facts.txt') as query_file:\n",
    "        query = query_file.read()\n",
    "    container = pgbq.read_gbq(query, google_project_id, dialect='standard')\n",
    "    print(\"Saving result to new table\")\n",
    "    container.to_gbq(result, 'community_networks.community_facts', google_project_id, if_exists='replace')\n"
   ]
  },
  {
   "cell_type": "code",
   "execution_count": 93,
   "metadata": {
    "collapsed": false
   },
   "outputs": [],
   "source": [
    "# worker function\n",
    "\n",
    "def bigquery_worker(i):\n",
    "    sql_module = sql_modules[i]\n",
    "    print('trying module ',i,': ',sql_modules[i], sep='')\n",
    "    try:\n",
    "        result = pgbq.read_gbq('select * from community_networks.'+network_type+'_'+sql_module, google_project_id, dialect='standard')\n",
    "        print(network_type,'_',sql_module,' table found.', sep='')\n",
    "    except:\n",
    "        print(network_type,'_',sql_module,' table does not exist, generating now')\n",
    "        with open('../sql/cumulative_networks/'+network_type+'/'+sql_module+'.txt') as query_file:\n",
    "            query = query_file.read()\n",
    "        result = pgbq.read_gbq(query, google_project_id, dialect='standard')\n",
    "        print('Creating new ',network_type,'_',sql_module,' table')\n",
    "        pgbq.to_gbq(result, 'community_networks.'+network_type+'_'+sql_module, google_project_id, if_exists='replace')\n",
    "    return (result)"
   ]
  },
  {
   "cell_type": "code",
   "execution_count": 99,
   "metadata": {
    "collapsed": false
   },
   "outputs": [
    {
     "name": "stdout",
     "output_type": "stream",
     "text": [
      "trying module  1 :  edge_weight\n",
      "trying module  3 :  outdegree\n",
      "trying module  2 :  indegree\n",
      "trying module  0 :  edges\n",
      "Requesting query... Requesting query... Requesting query... Requesting query... ok.\n",
      "Query running...\n",
      "ok.\n",
      "Query running...\n",
      "ok.\n",
      "Query running...\n",
      "ok.\n",
      "Query running...\n",
      "Query done.\n",
      "Processed: 0.0 B\n",
      "\n",
      "Query done.\n",
      "Processed: 0.0 B\n",
      "\n",
      "Retrieving results...\n",
      "Got 2692 rows.\n",
      "\n",
      "Retrieving results...\n",
      "Got 2692 rows.\n",
      "\n",
      "Total time taken 3.03 s.\n",
      "Finished at 2017-07-10 18:04:02.\n",
      "transaction _ edge_weight  table found.\n",
      "Total time taken 2.75 s.\n",
      "Finished at 2017-07-10 18:04:02.\n",
      "transaction _ indegree  table found.\n",
      "Query done.\n",
      "Processed: 0.0 B\n",
      "\n",
      "Retrieving results...\n",
      "Got 2692 rows.\n",
      "\n",
      "Total time taken 3.37 s.\n",
      "Finished at 2017-07-10 18:04:02.\n",
      "transaction _ outdegree  table found.\n",
      "Query done.\n",
      "Processed: 42.1 KB\n",
      "\n",
      "Retrieving results...\n",
      "  Got page: 1; 100% done. Elapsed 7.07 s.\n",
      "Got 2692 rows.\n",
      "\n",
      "Total time taken 7.12 s.\n",
      "Finished at 2017-07-10 18:04:06.\n",
      "transaction _ edges  table found.\n"
     ]
    }
   ],
   "source": [
    "#make it work\n",
    "\n",
    "if __name__ == '__main__':\n",
    "    with Pool(processes=len(sql_modules)) as pool:\n",
    "        result = pool.map(bigquery_worker, (range(len(sql_modules),)))\n",
    "        \n",
    "for i in range(len(result)):\n",
    "    container = container.join(result[i].set_index('cid'))"
   ]
  },
  {
   "cell_type": "code",
   "execution_count": null,
   "metadata": {
    "collapsed": true
   },
   "outputs": [],
   "source": [
    "#Calculations\n",
    "\n",
    "  'transaction' as edge_type,\n",
    "  cf.*,\n",
    "  avg_weight,\n",
    "  if(nodes*(nodes-1)/2=0, 0, edges/(nodes*(nodes-1)/2))*100 as network_density_X_100,\n",
    "  2*edges/nodes as avg_degree,\n",
    "  avg_indegree,\n",
    "  avg_outdegree,\n",
    "  (avg_indegree - avg_outdegree) / avg_outdegree indegree_skew"
   ]
  },
  {
   "cell_type": "code",
   "execution_count": 61,
   "metadata": {
    "collapsed": false
   },
   "outputs": [
    {
     "name": "stdout",
     "output_type": "stream",
     "text": [
      "0\n",
      "1\n"
     ]
    }
   ],
   "source": [
    "from multiprocessing import Pool\n",
    "import time\n",
    "\n",
    "def f(x):\n",
    "    return x*x\n",
    "\n",
    "if __name__ == '__main__':\n",
    "    with Pool(processes=4) as pool:         # start 4 worker processes\n",
    "\n",
    "        it = pool.imap(f, range(10))\n",
    "        print(next(it))                     # prints \"0\"\n",
    "          # prints \"4\" unless your computer is *very* slow\n",
    "\n",
    "        "
   ]
  },
  {
   "cell_type": "code",
   "execution_count": null,
   "metadata": {
    "collapsed": true
   },
   "outputs": [],
   "source": []
  }
 ],
 "metadata": {
  "kernelspec": {
   "display_name": "Python 3",
   "language": "python",
   "name": "python3"
  },
  "language_info": {
   "codemirror_mode": {
    "name": "ipython",
    "version": 3
   },
   "file_extension": ".py",
   "mimetype": "text/x-python",
   "name": "python",
   "nbconvert_exporter": "python",
   "pygments_lexer": "ipython3",
   "version": "3.6.0"
  }
 },
 "nbformat": 4,
 "nbformat_minor": 2
}
